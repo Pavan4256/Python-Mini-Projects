{
 "cells": [
  {
   "cell_type": "markdown",
   "metadata": {},
   "source": [
    "# Random Password Generator\n",
    "This program is used to generate an random and easy password "
   ]
  },
  {
   "cell_type": "markdown",
   "metadata": {},
   "source": [
    "This requires two modules\n",
    "1. random\n",
    "2. nltk\n",
    "\n",
    "1. If you dont have random module download random module using command\n",
    "pip install random\n",
    "\n",
    "2. If you dont have nltk then download nltk module using command\n",
    "pip install nltk\n",
    "\n",
    "Now to acces the word_list you need to do the following steps\n",
    "steps:\n",
    "1. import nltk\n",
    "2. nltk.download()\n",
    "\n",
    "after that you got an GUI to download all the modules but you don't need\n",
    "to download all the modules just download word in Corpora\n",
    "\n",
    "after these steps perform this function you get a random and easiest\n",
    "password which is very difficult to hack\n",
    "\n",
    "THANK YOU"
   ]
  },
  {
   "cell_type": "code",
   "execution_count": 1,
   "metadata": {},
   "outputs": [],
   "source": [
    "# importing random and nltk module\n",
    "import random\n",
    "from nltk.corpus import words"
   ]
  },
  {
   "cell_type": "code",
   "execution_count": 2,
   "metadata": {},
   "outputs": [],
   "source": [
    "#it is the function that takes list of strings and number(which is also string)\n",
    "#and special character which is also string and returns the combination of all\n",
    "#with randomness\n",
    "def password(lis,num,spe):\n",
    "    return (random.choice(lis)+random.choice(num)+random.choice(spe)).capitalize()"
   ]
  },
  {
   "cell_type": "code",
   "execution_count": 3,
   "metadata": {},
   "outputs": [],
   "source": [
    "word_list = words.words()  #initialize word list\n",
    "randnum = str(random.randint(0,100))    #choosing a random numbers ranges from [0,100]\n",
    "special = '!@#$%^&*()_-+=~/?\\|<>,.{}[]:;'  #creating a special characters string\n",
    "while 1:\n",
    "    length = 1\n",
    "    while length<8:\n",
    "        p_word = password(word_list,randnum,special)\n",
    "        length = len(p_word)\n",
    "    print(\"Your easy PASSWORD is : \"+p_word)\n",
    "    g = input(\"One more press any Y want to exit type N : \")\n",
    "    if g=='N':\n",
    "        break\n",
    "    elif g!='Y':\n",
    "        print('You pressed wrong letter good bye')\n",
    "        break"
   ]
  }
 ],
 "metadata": {
  "kernelspec": {
   "display_name": "Python 3",
   "language": "python",
   "name": "python3"
  },
  "language_info": {
   "codemirror_mode": {
    "name": "ipython",
    "version": 3
   },
   "file_extension": ".py",
   "mimetype": "text/x-python",
   "name": "python",
   "nbconvert_exporter": "python",
   "pygments_lexer": "ipython3",
   "version": "3.7.4"
  }
 },
 "nbformat": 4,
 "nbformat_minor": 2
}
