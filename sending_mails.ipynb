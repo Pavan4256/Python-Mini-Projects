{
 "cells": [
  {
   "cell_type": "markdown",
   "metadata": {},
   "source": [
    "# Sending Mails using Python\n",
    "\n",
    "To execute this you need to allow less secure apps to access your gmail"
   ]
  },
  {
   "cell_type": "markdown",
   "metadata": {},
   "source": [
    "https://support.google.com/accounts/answer/6010255?hl=en"
   ]
  },
  {
   "cell_type": "markdown",
   "metadata": {},
   "source": [
    "Click the above link to allow this"
   ]
  },
  {
   "cell_type": "code",
   "execution_count": 1,
   "metadata": {},
   "outputs": [],
   "source": [
    "#at first import SMTP module\n",
    "import smtplib\n",
    "# conncect to the server\n",
    "conn = smtplib.SMTP('imap.gmail.com',587)\n",
    "conn.ehlo()\n",
    "conn.starttls()"
   ]
  },
  {
   "cell_type": "code",
   "execution_count": 2,
   "metadata": {},
   "outputs": [],
   "source": [
    "#Now login to your mail by using MailId and Password\n",
    "conn.login(\"youremail@gmail.com\",\"password\")"
   ]
  },
  {
   "cell_type": "code",
   "execution_count": 3,
   "metadata": {},
   "outputs": [],
   "source": [
    "from_address = \"Your MailID\"\n",
    "to_address = \"senders MailID's\"\n",
    "message = \"Give your message Here\""
   ]
  },
  {
   "cell_type": "code",
   "execution_count": 4,
   "metadata": {},
   "outputs": [],
   "source": [
    "#Sending the mail\n",
    "conn.sendmail(from_address,to_address,message)\n",
    "#quit from server\n",
    "conn.quit()"
   ]
  },
  {
   "cell_type": "markdown",
   "metadata": {},
   "source": [
    "After sending the mail you can Denay your access to less secure apps"
   ]
  }
 ],
 "metadata": {
  "kernelspec": {
   "display_name": "Python 3",
   "language": "python",
   "name": "python3"
  },
  "language_info": {
   "codemirror_mode": {
    "name": "ipython",
    "version": 3
   },
   "file_extension": ".py",
   "mimetype": "text/x-python",
   "name": "python",
   "nbconvert_exporter": "python",
   "pygments_lexer": "ipython3",
   "version": "3.7.4"
  }
 },
 "nbformat": 4,
 "nbformat_minor": 2
}
