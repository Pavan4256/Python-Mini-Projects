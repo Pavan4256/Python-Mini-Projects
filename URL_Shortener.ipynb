{
 "cells": [
  {
   "cell_type": "markdown",
   "metadata": {},
   "source": [
    "# URL Shortener\n",
    "This is simple and easy code to shorten the urls\\\n",
    "From Pavan kumar\\\n",
    "Thank you"
   ]
  },
  {
   "cell_type": "code",
   "execution_count": 10,
   "metadata": {},
   "outputs": [],
   "source": [
    "# Import the pyshorteners module\n",
    "# if you dont have it try\n",
    "#pip install pyshorteners\n",
    "# in anaconda\n",
    "# conda install -c auto pyshorteners\n",
    "import pyshorteners"
   ]
  },
  {
   "cell_type": "code",
   "execution_count": 14,
   "metadata": {},
   "outputs": [
    {
     "name": "stdout",
     "output_type": "stream",
     "text": [
      "https://www.google.com/\n"
     ]
    }
   ],
   "source": [
    "#Take input url from use\n",
    "link = input()"
   ]
  },
  {
   "cell_type": "code",
   "execution_count": 15,
   "metadata": {},
   "outputs": [],
   "source": [
    "# this is used to connect the server to shorten the url\n",
    "shortener = pyshorteners.Shortener()"
   ]
  },
  {
   "cell_type": "code",
   "execution_count": 16,
   "metadata": {},
   "outputs": [
    {
     "name": "stdout",
     "output_type": "stream",
     "text": [
      "http://tinyurl.com/cv8mol7\n"
     ]
    }
   ],
   "source": [
    "#at final the shortened url is printed\n",
    "print(shortener.tinyurl.short(link))"
   ]
  }
 ],
 "metadata": {
  "kernelspec": {
   "display_name": "Python 3",
   "language": "python",
   "name": "python3"
  },
  "language_info": {
   "codemirror_mode": {
    "name": "ipython",
    "version": 3
   },
   "file_extension": ".py",
   "mimetype": "text/x-python",
   "name": "python",
   "nbconvert_exporter": "python",
   "pygments_lexer": "ipython3",
   "version": "3.7.4"
  }
 },
 "nbformat": 4,
 "nbformat_minor": 2
}
