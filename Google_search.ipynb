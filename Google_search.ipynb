{
 "cells": [
  {
   "cell_type": "markdown",
   "metadata": {},
   "source": [
    "# Searching the website \n",
    "\n",
    "It is the used to open the which website you want and also that to which browser you want "
   ]
  },
  {
   "cell_type": "code",
   "execution_count": null,
   "metadata": {},
   "outputs": [],
   "source": [
    "#at first import googlesearch and webbrowser modules\n",
    "#if you dont have it kindly install it\n",
    "from googlesearch import search\n",
    "from webbrowser import *"
   ]
  },
  {
   "cell_type": "code",
   "execution_count": null,
   "metadata": {},
   "outputs": [],
   "source": [
    "query = input(\"Enter the text you want to search it : \")"
   ]
  },
  {
   "cell_type": "code",
   "execution_count": null,
   "metadata": {},
   "outputs": [],
   "source": [
    "browser_path = \"Enter your browser path example chrome, mozilla, edge\""
   ]
  },
  {
   "cell_type": "code",
   "execution_count": null,
   "metadata": {},
   "outputs": [],
   "source": [
    "for url in search(query, tld=\"co.in\", num=10, stop=10, pause=2):\n",
    "    i = '9'\n",
    "    while i!='5':\n",
    "        print(\"want to open\",url,\"this page press 1\",\"see next page press 0\",\"to exit press 5\",sep='\\n')\n",
    "        i = input()\n",
    "        if i=='1':\n",
    "            get(browser_path).open(url)\n",
    "            break\n",
    "        elif i=='0':\n",
    "            break\n",
    "    else:\n",
    "        break"
   ]
  }
 ],
 "metadata": {
  "kernelspec": {
   "display_name": "Python 3",
   "language": "python",
   "name": "python3"
  },
  "language_info": {
   "codemirror_mode": {
    "name": "ipython",
    "version": 3
   },
   "file_extension": ".py",
   "mimetype": "text/x-python",
   "name": "python",
   "nbconvert_exporter": "python",
   "pygments_lexer": "ipython3",
   "version": "3.7.4"
  }
 },
 "nbformat": 4,
 "nbformat_minor": 2
}
